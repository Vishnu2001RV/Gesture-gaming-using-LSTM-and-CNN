{
 "cells": [
  {
   "cell_type": "code",
   "execution_count": null,
   "metadata": {},
   "outputs": [],
   "source": [
    "import urllib.request as ur\n",
    "import cv2\n",
    "import numpy as np\n",
    "import time\n",
    "import matplotlib.pyplot as plt\n",
    "\n",
    "from time import sleep\n",
    "url='http://192.168.43.1:8080/shot.jpg'\n",
    "kk=[[1,0,0]]\n",
    "k0=[]\n",
    "ii=[]\n",
    "for i in range(0,50):\n",
    "    #to take images from phone camera and process it.\n",
    "    imgResp = ur.urlopen(url)\n",
    "    imgNp = np.array(bytearray(imgResp.read()),dtype=np.uint8)\n",
    "    i = cv2.imdecode(imgNp,-1)\n",
    "    g = cv2.cvtColor(i, cv2.COLOR_BGR2GRAY)\n",
    "    g = cv2.threshold(g,100, 255, cv2.THRESH_BINARY)[1]\n",
    "    g=cv2.resize(g,(50,50))\n",
    "    n=g.reshape(1,2500)\n",
    "    ii.append(n)\n",
    "    \n",
    "    k0.append(kk)    #creating an array labelled according to the image data.\n",
    "    sleep(0.1)\n",
    "#converting it to numpy array and storing.\n",
    "image_data=np.array(ii)\n",
    "label_data=np.array(k0)\n",
    "np.save(r'C:/Users/Avinash/Documents/soft_assignment/stone',image_data)\n",
    "np.save(r'C:/Users/Avinash/Documents/soft_assignment/stone_0',label_data)\n"
   ]
  }
 ],
 "metadata": {
  "kernelspec": {
   "display_name": "Python 3",
   "language": "python",
   "name": "python3"
  },
  "language_info": {
   "codemirror_mode": {
    "name": "ipython",
    "version": 3
   },
   "file_extension": ".py",
   "mimetype": "text/x-python",
   "name": "python",
   "nbconvert_exporter": "python",
   "pygments_lexer": "ipython3",
   "version": "3.6.8"
  }
 },
 "nbformat": 4,
 "nbformat_minor": 2
}
